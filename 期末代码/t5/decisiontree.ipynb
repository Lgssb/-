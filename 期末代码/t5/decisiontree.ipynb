{
 "cells": [
  {
   "cell_type": "code",
   "execution_count": 1,
   "metadata": {},
   "outputs": [],
   "source": [
    "import numpy as np\n",
    "import pandas as pd\n",
    "from sklearn import tree\n",
    "from sklearn.preprocessing import LabelEncoder\n",
    "import graphviz "
   ]
  },
  {
   "cell_type": "code",
   "execution_count": 2,
   "metadata": {},
   "outputs": [
    {
     "data": {
      "text/html": [
       "<div>\n",
       "<style scoped>\n",
       "    .dataframe tbody tr th:only-of-type {\n",
       "        vertical-align: middle;\n",
       "    }\n",
       "\n",
       "    .dataframe tbody tr th {\n",
       "        vertical-align: top;\n",
       "    }\n",
       "\n",
       "    .dataframe thead th {\n",
       "        text-align: right;\n",
       "    }\n",
       "</style>\n",
       "<table border=\"1\" class=\"dataframe\">\n",
       "  <thead>\n",
       "    <tr style=\"text-align: right;\">\n",
       "      <th></th>\n",
       "      <th>Age</th>\n",
       "      <th>Incoming</th>\n",
       "      <th>Student</th>\n",
       "      <th>Credit Rating</th>\n",
       "      <th>Buying</th>\n",
       "    </tr>\n",
       "  </thead>\n",
       "  <tbody>\n",
       "    <tr>\n",
       "      <th>0</th>\n",
       "      <td>0</td>\n",
       "      <td>0</td>\n",
       "      <td>0</td>\n",
       "      <td>1</td>\n",
       "      <td>0</td>\n",
       "    </tr>\n",
       "    <tr>\n",
       "      <th>1</th>\n",
       "      <td>0</td>\n",
       "      <td>0</td>\n",
       "      <td>0</td>\n",
       "      <td>0</td>\n",
       "      <td>0</td>\n",
       "    </tr>\n",
       "    <tr>\n",
       "      <th>2</th>\n",
       "      <td>2</td>\n",
       "      <td>0</td>\n",
       "      <td>0</td>\n",
       "      <td>1</td>\n",
       "      <td>1</td>\n",
       "    </tr>\n",
       "    <tr>\n",
       "      <th>3</th>\n",
       "      <td>1</td>\n",
       "      <td>2</td>\n",
       "      <td>0</td>\n",
       "      <td>1</td>\n",
       "      <td>1</td>\n",
       "    </tr>\n",
       "    <tr>\n",
       "      <th>4</th>\n",
       "      <td>1</td>\n",
       "      <td>1</td>\n",
       "      <td>1</td>\n",
       "      <td>1</td>\n",
       "      <td>1</td>\n",
       "    </tr>\n",
       "    <tr>\n",
       "      <th>5</th>\n",
       "      <td>1</td>\n",
       "      <td>1</td>\n",
       "      <td>1</td>\n",
       "      <td>0</td>\n",
       "      <td>0</td>\n",
       "    </tr>\n",
       "    <tr>\n",
       "      <th>6</th>\n",
       "      <td>2</td>\n",
       "      <td>1</td>\n",
       "      <td>1</td>\n",
       "      <td>0</td>\n",
       "      <td>1</td>\n",
       "    </tr>\n",
       "    <tr>\n",
       "      <th>7</th>\n",
       "      <td>0</td>\n",
       "      <td>2</td>\n",
       "      <td>0</td>\n",
       "      <td>1</td>\n",
       "      <td>0</td>\n",
       "    </tr>\n",
       "    <tr>\n",
       "      <th>8</th>\n",
       "      <td>0</td>\n",
       "      <td>1</td>\n",
       "      <td>1</td>\n",
       "      <td>1</td>\n",
       "      <td>1</td>\n",
       "    </tr>\n",
       "    <tr>\n",
       "      <th>9</th>\n",
       "      <td>1</td>\n",
       "      <td>2</td>\n",
       "      <td>1</td>\n",
       "      <td>1</td>\n",
       "      <td>1</td>\n",
       "    </tr>\n",
       "    <tr>\n",
       "      <th>10</th>\n",
       "      <td>0</td>\n",
       "      <td>2</td>\n",
       "      <td>1</td>\n",
       "      <td>0</td>\n",
       "      <td>1</td>\n",
       "    </tr>\n",
       "    <tr>\n",
       "      <th>11</th>\n",
       "      <td>2</td>\n",
       "      <td>2</td>\n",
       "      <td>0</td>\n",
       "      <td>0</td>\n",
       "      <td>1</td>\n",
       "    </tr>\n",
       "    <tr>\n",
       "      <th>12</th>\n",
       "      <td>2</td>\n",
       "      <td>0</td>\n",
       "      <td>1</td>\n",
       "      <td>1</td>\n",
       "      <td>1</td>\n",
       "    </tr>\n",
       "  </tbody>\n",
       "</table>\n",
       "</div>"
      ],
      "text/plain": [
       "    Age  Incoming  Student  Credit Rating  Buying\n",
       "0     0         0        0              1       0\n",
       "1     0         0        0              0       0\n",
       "2     2         0        0              1       1\n",
       "3     1         2        0              1       1\n",
       "4     1         1        1              1       1\n",
       "5     1         1        1              0       0\n",
       "6     2         1        1              0       1\n",
       "7     0         2        0              1       0\n",
       "8     0         1        1              1       1\n",
       "9     1         2        1              1       1\n",
       "10    0         2        1              0       1\n",
       "11    2         2        0              0       1\n",
       "12    2         0        1              1       1"
      ]
     },
     "execution_count": 2,
     "metadata": {},
     "output_type": "execute_result"
    }
   ],
   "source": [
    "df = pd.read_csv('data5.csv')\n",
    "del df['User id'] \n",
    "le = LabelEncoder()\n",
    "for col in df.columns:                                            \n",
    "    df[col] = le.fit_transform(df[col])\n",
    "df\n"
   ]
  },
  {
   "cell_type": "code",
   "execution_count": 3,
   "metadata": {},
   "outputs": [],
   "source": [
    "X = df.iloc[:,:-1]\n",
    "y = df['Buying']\n",
    "clf = tree.DecisionTreeClassifier()\n",
    "clf = clf.fit(X, y)"
   ]
  },
  {
   "cell_type": "code",
   "execution_count": 4,
   "metadata": {},
   "outputs": [
    {
     "data": {
      "text/plain": [
       "array([0])"
      ]
     },
     "execution_count": 4,
     "metadata": {},
     "output_type": "execute_result"
    }
   ],
   "source": [
    "predx = np.array([1,2,0,0])\n",
    "pred = clf.predict(predx.reshape(1,-1))\n",
    "pred"
   ]
  },
  {
   "cell_type": "code",
   "execution_count": 11,
   "metadata": {},
   "outputs": [
    {
     "data": {
      "image/svg+xml": "<?xml version=\"1.0\" encoding=\"UTF-8\" standalone=\"no\"?>\n<!DOCTYPE svg PUBLIC \"-//W3C//DTD SVG 1.1//EN\"\n \"http://www.w3.org/Graphics/SVG/1.1/DTD/svg11.dtd\">\n<!-- Generated by graphviz version 2.50.0 (0)\n -->\n<!-- Title: Tree Pages: 1 -->\n<svg width=\"450pt\" height=\"433pt\"\n viewBox=\"0.00 0.00 450.00 433.00\" xmlns=\"http://www.w3.org/2000/svg\" xmlns:xlink=\"http://www.w3.org/1999/xlink\">\n<g id=\"graph0\" class=\"graph\" transform=\"scale(1 1) rotate(0) translate(4 429)\">\n<title>Tree</title>\n<polygon fill=\"white\" stroke=\"transparent\" points=\"-4,4 -4,-429 446,-429 446,4 -4,4\"/>\n<!-- 0 -->\n<g id=\"node1\" class=\"node\">\n<title>0</title>\n<polygon fill=\"#91c9f1\" stroke=\"black\" points=\"271,-425 179,-425 179,-342 271,-342 271,-425\"/>\n<text text-anchor=\"middle\" x=\"225\" y=\"-409.8\" font-family=\"Times New Roman,serif\" font-size=\"14.00\">Age &lt;= 0.5</text>\n<text text-anchor=\"middle\" x=\"225\" y=\"-394.8\" font-family=\"Times New Roman,serif\" font-size=\"14.00\">gini = 0.426</text>\n<text text-anchor=\"middle\" x=\"225\" y=\"-379.8\" font-family=\"Times New Roman,serif\" font-size=\"14.00\">samples = 13</text>\n<text text-anchor=\"middle\" x=\"225\" y=\"-364.8\" font-family=\"Times New Roman,serif\" font-size=\"14.00\">value = [4, 9]</text>\n<text text-anchor=\"middle\" x=\"225\" y=\"-349.8\" font-family=\"Times New Roman,serif\" font-size=\"14.00\">class = buy</text>\n</g>\n<!-- 1 -->\n<g id=\"node2\" class=\"node\">\n<title>1</title>\n<polygon fill=\"#f6d5bd\" stroke=\"black\" points=\"208,-306 108,-306 108,-223 208,-223 208,-306\"/>\n<text text-anchor=\"middle\" x=\"158\" y=\"-290.8\" font-family=\"Times New Roman,serif\" font-size=\"14.00\">Student &lt;= 0.5</text>\n<text text-anchor=\"middle\" x=\"158\" y=\"-275.8\" font-family=\"Times New Roman,serif\" font-size=\"14.00\">gini = 0.48</text>\n<text text-anchor=\"middle\" x=\"158\" y=\"-260.8\" font-family=\"Times New Roman,serif\" font-size=\"14.00\">samples = 5</text>\n<text text-anchor=\"middle\" x=\"158\" y=\"-245.8\" font-family=\"Times New Roman,serif\" font-size=\"14.00\">value = [3, 2]</text>\n<text text-anchor=\"middle\" x=\"158\" y=\"-230.8\" font-family=\"Times New Roman,serif\" font-size=\"14.00\">class = not buy</text>\n</g>\n<!-- 0&#45;&gt;1 -->\n<g id=\"edge1\" class=\"edge\">\n<title>0&#45;&gt;1</title>\n<path fill=\"none\" stroke=\"black\" d=\"M201.75,-341.91C196.77,-333.2 191.44,-323.9 186.29,-314.89\"/>\n<polygon fill=\"black\" stroke=\"black\" points=\"189.21,-312.96 181.2,-306.02 183.14,-316.44 189.21,-312.96\"/>\n<text text-anchor=\"middle\" x=\"174.65\" y=\"-326.45\" font-family=\"Times New Roman,serif\" font-size=\"14.00\">True</text>\n</g>\n<!-- 4 -->\n<g id=\"node5\" class=\"node\">\n<title>4</title>\n<polygon fill=\"#55abe9\" stroke=\"black\" points=\"357.5,-306 226.5,-306 226.5,-223 357.5,-223 357.5,-306\"/>\n<text text-anchor=\"middle\" x=\"292\" y=\"-290.8\" font-family=\"Times New Roman,serif\" font-size=\"14.00\">Credit Rating &lt;= 0.5</text>\n<text text-anchor=\"middle\" x=\"292\" y=\"-275.8\" font-family=\"Times New Roman,serif\" font-size=\"14.00\">gini = 0.219</text>\n<text text-anchor=\"middle\" x=\"292\" y=\"-260.8\" font-family=\"Times New Roman,serif\" font-size=\"14.00\">samples = 8</text>\n<text text-anchor=\"middle\" x=\"292\" y=\"-245.8\" font-family=\"Times New Roman,serif\" font-size=\"14.00\">value = [1, 7]</text>\n<text text-anchor=\"middle\" x=\"292\" y=\"-230.8\" font-family=\"Times New Roman,serif\" font-size=\"14.00\">class = buy</text>\n</g>\n<!-- 0&#45;&gt;4 -->\n<g id=\"edge4\" class=\"edge\">\n<title>0&#45;&gt;4</title>\n<path fill=\"none\" stroke=\"black\" d=\"M248.25,-341.91C253.23,-333.2 258.56,-323.9 263.71,-314.89\"/>\n<polygon fill=\"black\" stroke=\"black\" points=\"266.86,-316.44 268.8,-306.02 260.79,-312.96 266.86,-316.44\"/>\n<text text-anchor=\"middle\" x=\"275.35\" y=\"-326.45\" font-family=\"Times New Roman,serif\" font-size=\"14.00\">False</text>\n</g>\n<!-- 2 -->\n<g id=\"node3\" class=\"node\">\n<title>2</title>\n<polygon fill=\"#e58139\" stroke=\"black\" points=\"100,-179.5 0,-179.5 0,-111.5 100,-111.5 100,-179.5\"/>\n<text text-anchor=\"middle\" x=\"50\" y=\"-164.3\" font-family=\"Times New Roman,serif\" font-size=\"14.00\">gini = 0.0</text>\n<text text-anchor=\"middle\" x=\"50\" y=\"-149.3\" font-family=\"Times New Roman,serif\" font-size=\"14.00\">samples = 3</text>\n<text text-anchor=\"middle\" x=\"50\" y=\"-134.3\" font-family=\"Times New Roman,serif\" font-size=\"14.00\">value = [3, 0]</text>\n<text text-anchor=\"middle\" x=\"50\" y=\"-119.3\" font-family=\"Times New Roman,serif\" font-size=\"14.00\">class = not buy</text>\n</g>\n<!-- 1&#45;&gt;2 -->\n<g id=\"edge2\" class=\"edge\">\n<title>1&#45;&gt;2</title>\n<path fill=\"none\" stroke=\"black\" d=\"M120.53,-222.91C109.83,-211.32 98.18,-198.7 87.49,-187.11\"/>\n<polygon fill=\"black\" stroke=\"black\" points=\"89.97,-184.64 80.62,-179.67 84.83,-189.39 89.97,-184.64\"/>\n</g>\n<!-- 3 -->\n<g id=\"node4\" class=\"node\">\n<title>3</title>\n<polygon fill=\"#399de5\" stroke=\"black\" points=\"210,-179.5 118,-179.5 118,-111.5 210,-111.5 210,-179.5\"/>\n<text text-anchor=\"middle\" x=\"164\" y=\"-164.3\" font-family=\"Times New Roman,serif\" font-size=\"14.00\">gini = 0.0</text>\n<text text-anchor=\"middle\" x=\"164\" y=\"-149.3\" font-family=\"Times New Roman,serif\" font-size=\"14.00\">samples = 2</text>\n<text text-anchor=\"middle\" x=\"164\" y=\"-134.3\" font-family=\"Times New Roman,serif\" font-size=\"14.00\">value = [0, 2]</text>\n<text text-anchor=\"middle\" x=\"164\" y=\"-119.3\" font-family=\"Times New Roman,serif\" font-size=\"14.00\">class = buy</text>\n</g>\n<!-- 1&#45;&gt;3 -->\n<g id=\"edge3\" class=\"edge\">\n<title>1&#45;&gt;3</title>\n<path fill=\"none\" stroke=\"black\" d=\"M160.08,-222.91C160.63,-212.2 161.22,-200.62 161.78,-189.78\"/>\n<polygon fill=\"black\" stroke=\"black\" points=\"165.28,-189.83 162.3,-179.67 158.29,-189.47 165.28,-189.83\"/>\n</g>\n<!-- 5 -->\n<g id=\"node6\" class=\"node\">\n<title>5</title>\n<polygon fill=\"#9ccef2\" stroke=\"black\" points=\"332,-187 240,-187 240,-104 332,-104 332,-187\"/>\n<text text-anchor=\"middle\" x=\"286\" y=\"-171.8\" font-family=\"Times New Roman,serif\" font-size=\"14.00\">Age &lt;= 1.5</text>\n<text text-anchor=\"middle\" x=\"286\" y=\"-156.8\" font-family=\"Times New Roman,serif\" font-size=\"14.00\">gini = 0.444</text>\n<text text-anchor=\"middle\" x=\"286\" y=\"-141.8\" font-family=\"Times New Roman,serif\" font-size=\"14.00\">samples = 3</text>\n<text text-anchor=\"middle\" x=\"286\" y=\"-126.8\" font-family=\"Times New Roman,serif\" font-size=\"14.00\">value = [1, 2]</text>\n<text text-anchor=\"middle\" x=\"286\" y=\"-111.8\" font-family=\"Times New Roman,serif\" font-size=\"14.00\">class = buy</text>\n</g>\n<!-- 4&#45;&gt;5 -->\n<g id=\"edge5\" class=\"edge\">\n<title>4&#45;&gt;5</title>\n<path fill=\"none\" stroke=\"black\" d=\"M289.92,-222.91C289.49,-214.56 289.03,-205.67 288.59,-197.02\"/>\n<polygon fill=\"black\" stroke=\"black\" points=\"292.09,-196.83 288.08,-187.02 285.09,-197.19 292.09,-196.83\"/>\n</g>\n<!-- 8 -->\n<g id=\"node9\" class=\"node\">\n<title>8</title>\n<polygon fill=\"#399de5\" stroke=\"black\" points=\"442,-179.5 350,-179.5 350,-111.5 442,-111.5 442,-179.5\"/>\n<text text-anchor=\"middle\" x=\"396\" y=\"-164.3\" font-family=\"Times New Roman,serif\" font-size=\"14.00\">gini = 0.0</text>\n<text text-anchor=\"middle\" x=\"396\" y=\"-149.3\" font-family=\"Times New Roman,serif\" font-size=\"14.00\">samples = 5</text>\n<text text-anchor=\"middle\" x=\"396\" y=\"-134.3\" font-family=\"Times New Roman,serif\" font-size=\"14.00\">value = [0, 5]</text>\n<text text-anchor=\"middle\" x=\"396\" y=\"-119.3\" font-family=\"Times New Roman,serif\" font-size=\"14.00\">class = buy</text>\n</g>\n<!-- 4&#45;&gt;8 -->\n<g id=\"edge8\" class=\"edge\">\n<title>4&#45;&gt;8</title>\n<path fill=\"none\" stroke=\"black\" d=\"M328.08,-222.91C338.28,-211.43 349.39,-198.94 359.61,-187.44\"/>\n<polygon fill=\"black\" stroke=\"black\" points=\"362.49,-189.47 366.52,-179.67 357.26,-184.82 362.49,-189.47\"/>\n</g>\n<!-- 6 -->\n<g id=\"node7\" class=\"node\">\n<title>6</title>\n<polygon fill=\"#e58139\" stroke=\"black\" points=\"279,-68 179,-68 179,0 279,0 279,-68\"/>\n<text text-anchor=\"middle\" x=\"229\" y=\"-52.8\" font-family=\"Times New Roman,serif\" font-size=\"14.00\">gini = 0.0</text>\n<text text-anchor=\"middle\" x=\"229\" y=\"-37.8\" font-family=\"Times New Roman,serif\" font-size=\"14.00\">samples = 1</text>\n<text text-anchor=\"middle\" x=\"229\" y=\"-22.8\" font-family=\"Times New Roman,serif\" font-size=\"14.00\">value = [1, 0]</text>\n<text text-anchor=\"middle\" x=\"229\" y=\"-7.8\" font-family=\"Times New Roman,serif\" font-size=\"14.00\">class = not buy</text>\n</g>\n<!-- 5&#45;&gt;6 -->\n<g id=\"edge6\" class=\"edge\">\n<title>5&#45;&gt;6</title>\n<path fill=\"none\" stroke=\"black\" d=\"M264.78,-103.73C260.26,-95.06 255.49,-85.9 250.96,-77.18\"/>\n<polygon fill=\"black\" stroke=\"black\" points=\"254.06,-75.55 246.33,-68.3 247.85,-78.79 254.06,-75.55\"/>\n</g>\n<!-- 7 -->\n<g id=\"node8\" class=\"node\">\n<title>7</title>\n<polygon fill=\"#399de5\" stroke=\"black\" points=\"389,-68 297,-68 297,0 389,0 389,-68\"/>\n<text text-anchor=\"middle\" x=\"343\" y=\"-52.8\" font-family=\"Times New Roman,serif\" font-size=\"14.00\">gini = 0.0</text>\n<text text-anchor=\"middle\" x=\"343\" y=\"-37.8\" font-family=\"Times New Roman,serif\" font-size=\"14.00\">samples = 2</text>\n<text text-anchor=\"middle\" x=\"343\" y=\"-22.8\" font-family=\"Times New Roman,serif\" font-size=\"14.00\">value = [0, 2]</text>\n<text text-anchor=\"middle\" x=\"343\" y=\"-7.8\" font-family=\"Times New Roman,serif\" font-size=\"14.00\">class = buy</text>\n</g>\n<!-- 5&#45;&gt;7 -->\n<g id=\"edge7\" class=\"edge\">\n<title>5&#45;&gt;7</title>\n<path fill=\"none\" stroke=\"black\" d=\"M307.22,-103.73C311.74,-95.06 316.51,-85.9 321.04,-77.18\"/>\n<polygon fill=\"black\" stroke=\"black\" points=\"324.15,-78.79 325.67,-68.3 317.94,-75.55 324.15,-78.79\"/>\n</g>\n</g>\n</svg>\n",
      "text/plain": [
       "<graphviz.sources.Source at 0x1ae3005a040>"
      ]
     },
     "execution_count": 11,
     "metadata": {},
     "output_type": "execute_result"
    }
   ],
   "source": [
    "dot_data = tree.export_graphviz(clf, feature_names=['Age','Incoming','Student','Credit Rating'], class_names=['not buy','buy'],  filled=True)  \n",
    "graph = graphviz.Source(dot_data)\n",
    "graph"
   ]
  }
 ],
 "metadata": {
  "kernelspec": {
   "display_name": "base",
   "language": "python",
   "name": "python3"
  },
  "language_info": {
   "codemirror_mode": {
    "name": "ipython",
    "version": 3
   },
   "file_extension": ".py",
   "mimetype": "text/x-python",
   "name": "python",
   "nbconvert_exporter": "python",
   "pygments_lexer": "ipython3",
   "version": "3.9.7"
  },
  "orig_nbformat": 4,
  "vscode": {
   "interpreter": {
    "hash": "5179d32cf6ec497baf3f8a3ef987cc77c5d2dc691fdde20a56316522f61a7323"
   }
  }
 },
 "nbformat": 4,
 "nbformat_minor": 2
}
