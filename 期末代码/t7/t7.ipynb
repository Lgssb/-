{
 "cells": [
  {
   "cell_type": "code",
   "execution_count": 1,
   "metadata": {},
   "outputs": [],
   "source": [
    "import numpy as np\n",
    "from matplotlib import pyplot as plt"
   ]
  },
  {
   "cell_type": "code",
   "execution_count": 6,
   "metadata": {},
   "outputs": [],
   "source": [
    "\n",
    "def price_cn(vec1, vec2):\n",
    "    return np.linalg.norm(np.array(vec1) - np.array(vec2))\n",
    "def calc_distance(path, distance):\n",
    "    dis = 0.0\n",
    "    for i in range(len(path) - 1):\n",
    "        dis += distance[path[i]][path[i+1]]\n",
    "    return dis\n",
    "\n",
    "def get_distance(citys):\n",
    "    N = len(citys)\n",
    "    distance = np.zeros((N, N))\n",
    "    for i, curr_point in enumerate(citys):\n",
    "        line = []\n",
    "        [line.append(price_cn(curr_point, other_point)) if i != j else line.append(0.0) for j, other_point in enumerate(citys)]\n",
    "        distance[i] = line\n",
    "    return distance\n",
    "\n",
    "def calc_du(V, distance, N, A, D):\n",
    "    a = np.sum(V, axis=0) - 1  \n",
    "    b = np.sum(V, axis=1) - 1  \n",
    "    t1 = np.zeros((N, N))\n",
    "    t2 = np.zeros((N, N))\n",
    "    for i in range(N):\n",
    "        for j in range(N):\n",
    "            t1[i, j] = a[j]\n",
    "    for i in range(N):\n",
    "        for j in range(N):\n",
    "            t2[j, i] = b[j]\n",
    "\n",
    "    c_1 = V[:, 1:N]\n",
    "    c_0 = np.zeros((N, 1))\n",
    "    c_0[:, 0] = V[:, 0]\n",
    "    c = np.concatenate((c_1, c_0), axis=1)\n",
    "    c = np.dot(distance, c)\n",
    "    return -A * (t1 + t2) - D * c\n",
    "\n",
    "def calc_U(U, du, step):\n",
    "    return U + du * step\n",
    "\n",
    "def calc_V(U, U0):\n",
    "    return 1 / 2 * (1 + np.tanh(U / U0))\n",
    "\n",
    "def calc_energy(V, distance, N, A, D):\n",
    "    t1 = np.sum(np.power(np.sum(V, axis=0) - 1, 2))\n",
    "    t2 = np.sum(np.power(np.sum(V, axis=1) - 1, 2))\n",
    "    idx = [i for i in range(1, N)]\n",
    "    idx = idx + [0]\n",
    "    Vt = V[:, idx]\n",
    "    t3 = distance * Vt\n",
    "    t3 = np.sum(np.sum(np.multiply(V, t3)))\n",
    "    e = 0.5 * (A * (t1 + t2) + D * t3)\n",
    "    return e\n",
    "\n",
    "def check_path(V, N):\n",
    "    newV = np.zeros([N, N])\n",
    "    route = []\n",
    "    for i in range(N):\n",
    "        mm = np.max(V[:, i])\n",
    "        for j in range(N):\n",
    "            if V[j, i] == mm:\n",
    "                newV[j, i] = 1\n",
    "                route += [j]\n",
    "                break\n",
    "    return route, newV\n",
    "\n",
    "def draw_H_and_E(citys, H_path, energys):\n",
    "    fig = plt.figure(figsize=(12,4))\n",
    "\n",
    "    ax1 = fig.add_subplot(121)\n",
    "    plt.xlim(0, 7)\n",
    "    plt.ylim(0, 7)\n",
    "    for (from_, to_) in H_path:\n",
    "        p1 = plt.Circle(citys[from_], 0.2, color='navy')\n",
    "        p2 = plt.Circle(citys[to_], 0.2, color='navy')\n",
    "        ax1.add_patch(p1)\n",
    "        ax1.add_patch(p2)\n",
    "        ax1.plot((citys[from_][0], citys[to_][0]), (citys[from_][1], citys[to_][1]), color='navy')\n",
    "        ax1.annotate(s=chr(97 + to_), xy=citys[to_], xytext=(-8, -4), textcoords='offset points', fontsize=20)\n",
    "    ax1.axis('equal')\n",
    "    ax1.grid()\n",
    "\n",
    "    ax2 = fig.add_subplot(122)\n",
    "    ax2.plot(np.arange(0, len(energys), 1), energys, color='navy')\n",
    "    plt.savefig('TSP.png')\n",
    "    plt.show()\n",
    "\n",
    "def solver(U0, N, num_iter, distance, step, citys, A, D):\n",
    "    U = 1 / 2 * U0 * np.log(N - 1) + (2 * (np.random.random((N, N))) - 1)\n",
    "    V = calc_V(U, U0)\n",
    "    energys = np.array([0.0 for x in range(num_iter)])  \n",
    "    best_distance = np.inf \n",
    "    best_route = []  \n",
    "    H_path = []  \n",
    "\n",
    "    for n in range(num_iter):\n",
    "        du = calc_du(V, distance, N, A, D)\n",
    "        U = calc_U(U, du, step)\n",
    "        V = calc_V(U, U0)\n",
    "        energys[n] = calc_energy(V, distance, N, A, D)\n",
    "        route, newV = check_path(V, N)\n",
    "        if len(np.unique(route)) == N:\n",
    "            route.append(route[0])\n",
    "            dis = calc_distance(route, distance)\n",
    "            if dis < best_distance:\n",
    "                H_path = []\n",
    "                best_distance = dis\n",
    "                best_route = route\n",
    "                [H_path.append((route[i], route[i + 1])) for i in range(len(route) - 1)]\n",
    "                print('第{}次迭代找到的次优解距离为：{}，能量为：{}，路径为：'.format(n, best_distance, energys[n]))\n",
    "                [print(chr(97 + v), end=',' if i < len(best_route) - 1 else '\\n') for i, v in enumerate(best_route)]\n",
    "    if len(H_path) > 0:\n",
    "        draw_H_and_E(citys, H_path, energys)\n",
    "    else:\n",
    "        print('没有找到最优解')"
   ]
  },
  {
   "cell_type": "code",
   "execution_count": 8,
   "metadata": {},
   "outputs": [
    {
     "name": "stdout",
     "output_type": "stream",
     "text": [
      "第65次迭代找到的次优解距离为：25.294838428776377，能量为：85.78627953270755，路径为：\n",
      "d,h,a,c,e,g,b,f,d\n",
      "第247次迭代找到的次优解距离为：22.245523120490127，能量为：166.76295290326226，路径为：\n",
      "d,a,h,c,e,g,b,f,d\n",
      "第293次迭代找到的次优解距离为：19.142182332709552，能量为：373.49261322282763，路径为：\n",
      "d,a,b,c,e,g,h,f,d\n",
      "第2891次迭代找到的次优解距离为：17.832324037878347，能量为：316.75893362301724，路径为：\n",
      "a,d,f,g,e,h,b,c,a\n",
      "第3523次迭代找到的次优解距离为：16.705481427033433，能量为：447.172040418444，路径为：\n",
      "a,d,g,e,f,h,b,c,a\n",
      "第7260次迭代找到的次优解距离为：15.543203766865055，能量为：256.1895949799267，路径为：\n",
      "g,e,f,h,c,b,a,d,g\n",
      "第8827次迭代找到的次优解距离为：14.714776642118867，能量为：315.10571895905844，路径为：\n",
      "g,f,h,c,b,a,d,e,g\n"
     ]
    },
    {
     "name": "stderr",
     "output_type": "stream",
     "text": [
      "C:\\Users\\ZHOUTI~1\\AppData\\Local\\Temp/ipykernel_62248/234833715.py:79: MatplotlibDeprecationWarning: The 's' parameter of annotate() has been renamed 'text' since Matplotlib 3.3; support for the old name will be dropped two minor releases later.\n",
      "  ax1.annotate(s=chr(97 + to_), xy=citys[to_], xytext=(-8, -4), textcoords='offset points', fontsize=20)\n"
     ]
    },
    {
     "data": {
      "image/png": "[encoded data removed]",
      "text/plain": [
       "<Figure size 864x288 with 2 Axes>"
      ]
     },
     "metadata": {
      "needs_background": "light"
     },
     "output_type": "display_data"
    }
   ],
   "source": [
    "# 固定随机种子\n",
    "np.random.seed(99)\n",
    "citys = np.array([[2, 6], [2, 4], [1, 3], [4, 6], [5, 5], [4, 4], [6, 4], [3, 2]])\n",
    "distance = get_distance(citys)\n",
    "N = len(citys)\n",
    "# 设置初始值\n",
    "A = N * N\n",
    "D = N / 2\n",
    "U0 = 0.0009  # 初始电压\n",
    "step = 0.0001  # 步长\n",
    "num_iter = 10000  # 迭代次数\n",
    "solver(U0, N, num_iter, distance, step, citys, A, D)"
   ]
  }
 ],
 "metadata": {
  "kernelspec": {
   "display_name": "base",
   "language": "python",
   "name": "python3"
  },
  "language_info": {
   "codemirror_mode": {
    "name": "ipython",
    "version": 3
   },
   "file_extension": ".py",
   "mimetype": "text/x-python",
   "name": "python",
   "nbconvert_exporter": "python",
   "pygments_lexer": "ipython3",
   "version": "3.9.7"
  },
  "orig_nbformat": 4,
  "vscode": {
   "interpreter": {
    "hash": "5179d32cf6ec497baf3f8a3ef987cc77c5d2dc691fdde20a56316522f61a7323"
   }
  }
 },
 "nbformat": 4,
 "nbformat_minor": 2
}
